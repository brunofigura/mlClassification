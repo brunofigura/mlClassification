{
 "cells": [
  {
   "cell_type": "code",
   "execution_count": 1,
   "metadata": {},
   "outputs": [],
   "source": [
    "import numpy as np\n",
    "import matplotlib.pyplot as plt\n",
    "\n",
    "import keras\n",
    "from keras import layers\n",
    "\n",
    "from keras.datasets import mnist\n",
    "\n",
    "import matplotlib.pyplot as plt\n",
    "\n"
   ]
  },
  {
   "cell_type": "markdown",
   "metadata": {},
   "source": [
    "Split the imported dataset into training and test data. Preprocess (reshape and normalize) the dataset. Print out the shapes of the resulting tensors."
   ]
  },
  {
   "cell_type": "code",
   "execution_count": 4,
   "metadata": {},
   "outputs": [
    {
     "name": "stdout",
     "output_type": "stream",
     "text": [
      "Training data shape:\n",
      " (60000, 28, 28, 1) \n",
      "\n",
      "Test data shape:\n",
      " (10000, 28, 28, 1) \n",
      "\n"
     ]
    }
   ],
   "source": [
    "(train_data, train_labels), (test_data, test_labels) = mnist.load_data()\n",
    "\n",
    "train_data = train_data.reshape(train_data.shape[0], 28, 28, 1)\n",
    "test_data = test_data.reshape(test_data.shape[0], 28, 28, 1)\n",
    "\n",
    "print(\"Training data shape:\\n\", train_data.shape, \"\\n\")\n",
    "print(\"Test data shape:\\n\", test_data.shape, \"\\n\")\n",
    " \n",
    "train_data = train_data.astype('float32')\n",
    "test_data = test_data.astype('float32')\n",
    " \n",
    "train_data /= 255 \n",
    "test_data /= 255\n",
    "\n",
    "#train_labels = keras.utils.to_categorical(train_labels, 10)\n",
    "#test_labels = keras.utils.to_categorical(test_labels, 10)\n",
    "\n",
    "#print(\"Training labels shape:\\n\", train_labels.shape, \"\\n\")\n",
    "#print(\"Test labels shape:\\n\", test_labels.shape)\n"
   ]
  },
  {
   "cell_type": "markdown",
   "metadata": {},
   "source": [
    "Define the CNN-Autoencoder (CAE) model. Source: Tzoreff, Elad & Kogan, Olga & Choukroun, Yoni. (2018). Deep Discriminative Latent Space for Clustering."
   ]
  },
  {
   "cell_type": "code",
   "execution_count": 5,
   "metadata": {},
   "outputs": [
    {
     "name": "stdout",
     "output_type": "stream",
     "text": [
      "Model: \"sequential_1\"\n",
      "_________________________________________________________________\n",
      " Layer (type)                Output Shape              Param #   \n",
      "=================================================================\n",
      " conv2d_5 (Conv2D)           (None, 28, 28, 6)         156       \n",
      "                                                                 \n",
      " activation_5 (Activation)   (None, 28, 28, 6)         0         \n",
      "                                                                 \n",
      " max_pooling2d_2 (MaxPoolin  (None, 14, 14, 6)         0         \n",
      " g2D)                                                            \n",
      "                                                                 \n",
      " conv2d_6 (Conv2D)           (None, 14, 14, 16)        2416      \n",
      "                                                                 \n",
      " activation_6 (Activation)   (None, 14, 14, 16)        0         \n",
      "                                                                 \n",
      " max_pooling2d_3 (MaxPoolin  (None, 7, 7, 16)          0         \n",
      " g2D)                                                            \n",
      "                                                                 \n",
      " conv2d_7 (Conv2D)           (None, 7, 7, 16)          6416      \n",
      "                                                                 \n",
      " activation_7 (Activation)   (None, 7, 7, 16)          0         \n",
      "                                                                 \n",
      " up_sampling2d_2 (UpSamplin  (None, 14, 14, 16)        0         \n",
      " g2D)                                                            \n",
      "                                                                 \n",
      " conv2d_8 (Conv2D)           (None, 14, 14, 6)         2406      \n",
      "                                                                 \n",
      " activation_8 (Activation)   (None, 14, 14, 6)         0         \n",
      "                                                                 \n",
      " up_sampling2d_3 (UpSamplin  (None, 28, 28, 6)         0         \n",
      " g2D)                                                            \n",
      "                                                                 \n",
      " conv2d_9 (Conv2D)           (None, 28, 28, 1)         151       \n",
      "                                                                 \n",
      " activation_9 (Activation)   (None, 28, 28, 1)         0         \n",
      "                                                                 \n",
      "=================================================================\n",
      "Total params: 11545 (45.10 KB)\n",
      "Trainable params: 11545 (45.10 KB)\n",
      "Non-trainable params: 0 (0.00 Byte)\n",
      "_________________________________________________________________\n"
     ]
    }
   ],
   "source": [
    "model = keras.Sequential()\n",
    " \n",
    "#1st convolution layer\n",
    "model.add(layers.Conv2D(6, (5, 5) \n",
    ", padding='same', input_shape=(28,28,1)))\n",
    "model.add(layers.Activation('relu'))\n",
    "model.add(layers.MaxPooling2D(pool_size=(2,2), padding='same'))\n",
    " \n",
    "#2nd convolution layer\n",
    "model.add(layers.Conv2D(16,(5, 5), padding='same')) \n",
    "model.add(layers.Activation('relu'))\n",
    "model.add(layers.MaxPooling2D(pool_size=(2,2), padding='same'))\n",
    " \n",
    "#here compressed version\n",
    " \n",
    "#3rd convolution layer\n",
    "model.add(layers.Conv2D(16,(5, 5), padding='same')) \n",
    "model.add(layers.Activation('relu'))\n",
    "model.add(layers.UpSampling2D((2, 2)))\n",
    " \n",
    "#4rd convolution layer\n",
    "model.add(layers.Conv2D(6,(5, 5), padding='same'))\n",
    "model.add(layers.Activation('relu'))\n",
    "model.add(layers.UpSampling2D((2, 2)))\n",
    " \n",
    "model.add(layers.Conv2D(1,(5, 5), padding='same'))\n",
    "model.add(layers.Activation('sigmoid'))\n",
    "\n",
    "model.summary()\n",
    "\n"
   ]
  },
  {
   "cell_type": "markdown",
   "metadata": {},
   "source": [
    "Compile and train the previously defined architecture on the preprocessed dataset."
   ]
  },
  {
   "cell_type": "code",
   "execution_count": 8,
   "metadata": {},
   "outputs": [
    {
     "name": "stdout",
     "output_type": "stream",
     "text": [
      "Epoch 1/2\n",
      "60000/60000 [==============================] - 371s 6ms/step - loss: 0.1632 - val_loss: 0.1425\n",
      "Epoch 2/2\n",
      "60000/60000 [==============================] - 916s 15ms/step - loss: 0.1321 - val_loss: 0.1228\n"
     ]
    },
    {
     "data": {
      "text/plain": [
       "<keras.src.callbacks.History at 0x23c43363a10>"
      ]
     },
     "execution_count": 8,
     "metadata": {},
     "output_type": "execute_result"
    }
   ],
   "source": [
    "model.compile(optimizer='adadelta', loss='binary_crossentropy')\n",
    "model.fit(train_data, train_data , batch_size=1, epochs=2, validation_data=(test_data, test_data)) #Selbstreferenzierung von train_data zwei mal, weil die Aufgabe des Autoencoders eine Rekonstruktion der Eingangsdaten ist\n",
    "#model.save('C:/Users/AL/Desktop/Machine Learning II Thema 2/model_mnist.keras')\n"
   ]
  },
  {
   "cell_type": "markdown",
   "metadata": {},
   "source": [
    "Plot 5 random input-images to be ran through the CAE aswell as the results."
   ]
  },
  {
   "cell_type": "code",
   "execution_count": 9,
   "metadata": {},
   "outputs": [
    {
     "name": "stdout",
     "output_type": "stream",
     "text": [
      "313/313 [==============================] - 13s 39ms/step\n"
     ]
    },
    {
     "data": {
      "image/png": "[encoded data removed]",
      "text/plain": [
       "<Figure size 1500x600 with 10 Axes>"
      ]
     },
     "metadata": {},
     "output_type": "display_data"
    }
   ],
   "source": [
    "num_samples = test_data.shape[0]\n",
    "indices = np.arange(num_samples)\n",
    "np.random.shuffle(indices)\n",
    "\n",
    "restored_imgs = model.predict(test_data)\n",
    "\n",
    "# Create a 2x5 grid\n",
    "fig, axes = plt.subplots(2, 5, figsize=(15, 6))\n",
    "fig.suptitle('Autoencoder results: Original and Restored Images')\n",
    "\n",
    "for i in range(5):\n",
    "    random_index = indices[i]\n",
    "\n",
    "    # Original images\n",
    "    axes[0, i].imshow(test_data[random_index], cmap='gray')\n",
    "    axes[0, i].axis('off')  # Hide axes\n",
    "    axes[0, i].set_title('Original')\n",
    "\n",
    "    # Restored images\n",
    "    axes[1, i].imshow(restored_imgs[random_index], cmap='gray')\n",
    "    axes[1, i].axis('off')  # Hide axes\n",
    "    axes[1, i].set_title('Restored')\n",
    "\n",
    "plt.show()"
   ]
  }
 ],
 "metadata": {
  "kernelspec": {
   "display_name": "lls_cnn",
   "language": "python",
   "name": "python3"
  },
  "language_info": {
   "codemirror_mode": {
    "name": "ipython",
    "version": 3
   },
   "file_extension": ".py",
   "mimetype": "text/x-python",
   "name": "python",
   "nbconvert_exporter": "python",
   "pygments_lexer": "ipython3",
   "version": "3.11.4"
  }
 },
 "nbformat": 4,
 "nbformat_minor": 2
}
